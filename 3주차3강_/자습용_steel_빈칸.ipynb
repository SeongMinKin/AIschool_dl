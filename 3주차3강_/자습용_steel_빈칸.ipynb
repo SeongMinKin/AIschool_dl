{
 "cells": [
  {
   "cell_type": "code",
   "execution_count": 5,
   "metadata": {},
   "outputs": [
    {
     "name": "stdout",
     "output_type": "stream",
     "text": [
      "Epoch 1: loss=33.875, accuracy=0.557/0.812\n",
      "Epoch 2: loss=8.226, accuracy=0.820/0.814\n",
      "Epoch 3: loss=7.582, accuracy=0.812/0.809\n",
      "Epoch 4: loss=7.475, accuracy=0.808/0.811\n",
      "Epoch 5: loss=7.395, accuracy=0.810/0.809\n",
      "Epoch 6: loss=7.328, accuracy=0.808/0.810\n",
      "Epoch 7: loss=7.269, accuracy=0.808/0.811\n",
      "Epoch 8: loss=7.217, accuracy=0.808/0.812\n",
      "Epoch 9: loss=7.175, accuracy=0.810/0.810\n",
      "Epoch 10: loss=7.135, accuracy=0.809/0.810\n",
      "\n",
      "Final Test: final accuracy = 0.810\n",
      "[[1.02697603]\n",
      " [1.47450981]\n",
      " [1.66960135]\n",
      " [2.04468668]\n",
      " [1.62513525]\n",
      " [0.60292627]\n",
      " [2.39993815]\n",
      " [0.54107313]\n",
      " [0.46878034]\n",
      " [1.01969382]]\n",
      "[4.16894769]\n",
      "(array([8.65881481]), array([0.  , 1.  , 0.  , 0.44, 0.3 , 0.08, 0.5 , 0.23, 0.11, 0.2 ]))\n",
      "Epoch 20: loss=5.804, accuracy=0.825/0.831\n",
      "Epoch 40: loss=5.259, accuracy=0.834/0.828\n",
      "Epoch 60: loss=5.056, accuracy=0.837/0.838\n",
      "Epoch 80: loss=4.950, accuracy=0.838/0.840\n",
      "Epoch 100: loss=4.910, accuracy=0.840/0.826\n",
      "\n",
      "Final Test: final accuracy = 0.826\n"
     ]
    }
   ],
   "source": [
    "%run ./자습용_AI_abalone.ipynb"
   ]
  },
  {
   "cell_type": "markdown",
   "metadata": {},
   "source": [
    "## A.1 메인함수 정의"
   ]
  },
  {
   "cell_type": "code",
   "execution_count": 28,
   "metadata": {},
   "outputs": [],
   "source": [
    "def steel_exec(epoch_count=10, mb_size = 10, report =1):\n",
    "    load_steel_dataset()\n",
    "    init_model()\n",
    "    train_and_test(epoch_count,mb_size,report)"
   ]
  },
  {
   "cell_type": "markdown",
   "metadata": {},
   "source": [
    "## B.1 데이터 적재 함수 정의"
   ]
  },
  {
   "cell_type": "code",
   "execution_count": 29,
   "metadata": {},
   "outputs": [],
   "source": [
    "def load_steel_dataset():\n",
    "    with open('faults.csv') as csvfile:\n",
    "        csvreader = csv.reader(csvfile)\n",
    "        next(csvreader, None)\n",
    "        rows = []\n",
    "        for row in csvreader:\n",
    "            rows.append(row)\n",
    "            \n",
    "    global data, input_cnt, output_cnt\n",
    "    \n",
    "    input_cnt, output_cnt = 27, 7 #7가지의 신경망 계산 결과를 출력해야 함\n",
    "    data = np.asarray(rows, dtype='float32') #numpy의 선형 연산을 위해 자료형 바꿈"
   ]
  },
  {
   "cell_type": "markdown",
   "metadata": {},
   "source": [
    "## D.2 E.2 후처리 과정에 대한 순전파와 역전파 함수의 재정의 "
   ]
  },
  {
   "cell_type": "code",
   "execution_count": 30,
   "metadata": {},
   "outputs": [],
   "source": [
    "def forward_postproc(output, y):\n",
    "    entropy = softmax_cross_entropy_with_logits(y, output) \n",
    "    loss = np.mean(entropy) \n",
    "    return loss, [y, output, entropy] \n",
    "\n",
    "\n",
    "def backprop_postproc(G_loss, aux): \n",
    "    y, output, entropy = aux \n",
    "    g_loss_entropy = 1.0 / np.prod(entropy.shape)\n",
    "    g_entropy_output = softmax_cross_entropy_with_logits_derv(y,output) \n",
    "\n",
    "    G_entropy = g_loss_entropy * G_loss\n",
    "    G_output = g_entropy_output * G_entropy\n",
    "    \n",
    "    return G_output"
   ]
  },
  {
   "cell_type": "markdown",
   "metadata": {},
   "source": [
    "## D.3 정확도 계산 함수 정의"
   ]
  },
  {
   "cell_type": "code",
   "execution_count": 31,
   "metadata": {},
   "outputs": [],
   "source": [
    "def eval_accuracy(output, y): \n",
    "    estimate = np.argmax(output, axis = 1)\n",
    "    answer = np.argmax(y, axis = 1) \n",
    "    correct = np.equal(estimate, answer)\n",
    "    \n",
    "    return np.mean(correct)  "
   ]
  },
  {
   "cell_type": "markdown",
   "metadata": {},
   "source": [
    "## F.1~3 소프트맥스 관련 함수 정의"
   ]
  },
  {
   "cell_type": "code",
   "execution_count": 32,
   "metadata": {},
   "outputs": [],
   "source": [
    "def softmax(x): \n",
    "    max_elem = np.max(x, axis=1) \n",
    "    diff = (x.transpose() - max_elem).transpose()\n",
    "    exp = np.exp(diff) \n",
    "    sum_exp = np.sum(exp, axis=1)\n",
    "    probs = (exp.transpose()/sum_exp).transpose() \n",
    "    return probs  \n",
    "\n",
    "def softmax_cross_entropy_with_logits(labels, logits):\n",
    "    probs = softmax(logits) \n",
    "    return -np.sum(labels * np.log(probs + 1.0e-20), axis=1)\n",
    "    \n",
    "def softmax_cross_entropy_with_logits_derv(labels, logits):\n",
    "    return softmax(logits) - labels"
   ]
  },
  {
   "cell_type": "markdown",
   "metadata": {},
   "source": [
    "## 실행하기"
   ]
  },
  {
   "cell_type": "code",
   "execution_count": 37,
   "metadata": {},
   "outputs": [
    {
     "name": "stdout",
     "output_type": "stream",
     "text": [
      "Epoch 1: loss=32.801, accuracy=0.288/0.205\n",
      "Epoch 2: loss=30.869, accuracy=0.330/0.199\n",
      "Epoch 3: loss=31.761, accuracy=0.310/0.233\n",
      "Epoch 4: loss=30.899, accuracy=0.329/0.271\n",
      "Epoch 5: loss=30.869, accuracy=0.330/0.430\n",
      "Epoch 6: loss=31.701, accuracy=0.312/0.448\n",
      "Epoch 7: loss=31.464, accuracy=0.317/0.361\n",
      "Epoch 8: loss=30.988, accuracy=0.327/0.205\n",
      "Epoch 9: loss=30.988, accuracy=0.327/0.442\n",
      "Epoch 10: loss=31.285, accuracy=0.321/0.256\n",
      "\n",
      "Final Test: final accuracy = 0.256\n"
     ]
    }
   ],
   "source": [
    "steel_exec()"
   ]
  },
  {
   "cell_type": "code",
   "execution_count": 38,
   "metadata": {},
   "outputs": [
    {
     "name": "stdout",
     "output_type": "stream",
     "text": [
      "Epoch 1: loss=32.890, accuracy=0.286/0.243\n",
      "Epoch 2: loss=30.662, accuracy=0.334/0.322\n",
      "Epoch 3: loss=31.820, accuracy=0.309/0.432\n",
      "Epoch 4: loss=30.543, accuracy=0.337/0.345\n",
      "Epoch 5: loss=30.988, accuracy=0.327/0.414\n",
      "Epoch 6: loss=30.780, accuracy=0.332/0.417\n",
      "Epoch 7: loss=30.810, accuracy=0.331/0.202\n",
      "Epoch 8: loss=30.216, accuracy=0.344/0.315\n",
      "Epoch 9: loss=30.483, accuracy=0.338/0.261\n",
      "Epoch 10: loss=31.077, accuracy=0.325/0.223\n",
      "\n",
      "Final Test: final accuracy = 0.223\n"
     ]
    }
   ],
   "source": [
    "LEARNING_RATE = 0.0001\n",
    "steel_exec()"
   ]
  },
  {
   "cell_type": "code",
   "execution_count": null,
   "metadata": {},
   "outputs": [],
   "source": []
  }
 ],
 "metadata": {
  "kernelspec": {
   "display_name": "Python 3",
   "language": "python",
   "name": "python3"
  },
  "language_info": {
   "codemirror_mode": {
    "name": "ipython",
    "version": 3
   },
   "file_extension": ".py",
   "mimetype": "text/x-python",
   "name": "python",
   "nbconvert_exporter": "python",
   "pygments_lexer": "ipython3",
   "version": "3.7.7"
  }
 },
 "nbformat": 4,
 "nbformat_minor": 2
}
