{
 "cells": [
  {
   "cell_type": "code",
   "execution_count": null,
   "metadata": {
    "colab": {},
    "colab_type": "code",
    "id": "29YqbFqvK0uS"
   },
   "outputs": [],
   "source": [
    "def init_model_hidden1():\n",
    "    global pm_output, pm_hidden, input_cnt, output_cnt, hidden_cnt\n",
    "    \n",
    "    pm_hidden = ?([input_cnt, hidden_cnt])\n",
    "    pm_output = ?([hidden_cnt, output_cnt])\n",
    "    \n",
    "def alloc_param_pair(shape):\n",
    "    weight = np.random.?(RND_MEAN, RND_STD, shape)\n",
    "    bias = np.?(shape[-1])\n",
    "    return {'w':weight, 'b':bias}"
   ]
  },
  {
   "cell_type": "code",
   "execution_count": null,
   "metadata": {
    "colab": {},
    "colab_type": "code",
    "id": "DgOAnXC0L-cD"
   },
   "outputs": [],
   "source": [
    "def forward_neuralnet_hidden1(x):\n",
    "    global pm_output, pm_hidden\n",
    "    \n",
    "    hidden = relu(np.?(x, pm_hidden['?']) + pm_hidden['?'])\n",
    "    output = np.?(hidden, pm_output['?']) + pm_output['?']\n",
    "    \n",
    "    return output, [x, hidden]\n",
    "\n",
    "def relu(x):\n",
    "    return np.?(x, 0)"
   ]
  },
  {
   "cell_type": "code",
   "execution_count": null,
   "metadata": {
    "colab": {},
    "colab_type": "code",
    "id": "3j5CESKGMAdf"
   },
   "outputs": [],
   "source": [
    "def backprop_neuralnet_hidden1(G_output, aux):\n",
    "    global pm_output, pm_hidden\n",
    "    \n",
    "    x, hidden = aux\n",
    "\n",
    "    g_output_w_out = hidden.?()                      \n",
    "    G_w_out = np.?(g_output_w_out, G_output)            \n",
    "    G_b_out = np.?(G_output, axis=0)                       \n",
    "\n",
    "    g_output_hidden = pm_output['w'].?()             \n",
    "    G_hidden = np.?(G_output, g_output_hidden)          \n",
    "\n",
    "    pm_output['?'] ? ? * G_w_out                \n",
    "    pm_output['?'] ? ? * G_b_out                \n",
    "    \n",
    "    G_hidden = G_hidden * ?(hidden)\n",
    "    \n",
    "    g_hidden_w_hid = x.?()                           \n",
    "    G_w_hid = np.?(g_hidden_w_hid, G_hidden)            \n",
    "    G_b_hid = np.?(G_hidden, axis=0)                       \n",
    "    \n",
    "    pm_hidden['?'] ? ? * G_w_hid                \n",
    "    pm_hidden['?'] ? ? * G_b_hid                \n",
    "    \n",
    "def relu_derv(y):\n",
    "    return np.?(y)"
   ]
  },
  {
   "cell_type": "code",
   "execution_count": null,
   "metadata": {
    "colab": {},
    "colab_type": "code",
    "id": "pPlvm3ReMCah"
   },
   "outputs": [],
   "source": [
    "def init_model_hiddens():\n",
    "    global pm_output, pm_hiddens, input_cnt, output_cnt, hidden_config\n",
    "    \n",
    "    pm_hiddens = []\n",
    "    prev_cnt = ?\n",
    "    \n",
    "    for hidden_cnt in hidden_config:\n",
    "        pm_hiddens.?(alloc_param_pair([prev_cnt, hidden_cnt]))\n",
    "        prev_cnt = hidden_cnt\n",
    "    \n",
    "    pm_output = ?([prev_cnt, output_cnt])"
   ]
  },
  {
   "cell_type": "code",
   "execution_count": null,
   "metadata": {
    "colab": {},
    "colab_type": "code",
    "id": "-f6XiXO6MDtO"
   },
   "outputs": [],
   "source": [
    "def forward_neuralnet_hiddens(x):\n",
    "    global pm_output, pm_hiddens\n",
    "    \n",
    "    hidden = x\n",
    "    hiddens = [x]\n",
    "    \n",
    "    for pm_hidden in ?:\n",
    "        hidden = relu(np.?(hidden, pm_hidden['w']) + pm_hidden['b'])\n",
    "        hiddens.?(hidden)\n",
    "        \n",
    "    output = np.?(hidden, pm_output['w']) + pm_output['b']\n",
    "    \n",
    "    return output, hiddens"
   ]
  },
  {
   "cell_type": "code",
   "execution_count": null,
   "metadata": {
    "colab": {},
    "colab_type": "code",
    "id": "HVeM7R56MGBZ"
   },
   "outputs": [],
   "source": [
    "def backprop_neuralnet_hiddens(G_output, aux):\n",
    "    global pm_output, pm_hiddens\n",
    "\n",
    "    hiddens = aux\n",
    "    \n",
    "    g_output_w_out = hiddens[-1].?()\n",
    "    G_w_out = np.?(g_output_w_out, G_output)\n",
    "    G_b_out = np.?(G_output, axis=0)\n",
    "\n",
    "    g_output_hidden = pm_output['w'].?() \n",
    "    G_hidden = np.?(G_output, g_output_hidden)\n",
    "\n",
    "    pm_output['?'] ? LEARNING_RATE * G_w_out\n",
    "    pm_output['?'] ? LEARNING_RATE * G_b_out\n",
    "    \n",
    "    for n in reversed(range(len(pm_hiddens))):\n",
    "        G_hidden = G_hidden * relu_derv(hiddens[n+1])\n",
    "\n",
    "        g_hidden_w_hid = hiddens[n].?()\n",
    "        G_w_hid = np.?(g_hidden_w_hid, G_hidden)\n",
    "        G_b_hid = np.?(G_hidden, axis=0)\n",
    "    \n",
    "        g_hidden_hidden = pm_hiddens[n]['w'].?()\n",
    "        G_hidden = np.?(G_hidden, g_hidden_hidden)\n",
    "\n",
    "        pm_hiddens[n]['?'] -= ? * G_w_hid\n",
    "        pm_hiddens[n]['?'] -= ? * G_b_hid"
   ]
  },
  {
   "cell_type": "code",
   "execution_count": null,
   "metadata": {
    "colab": {},
    "colab_type": "code",
    "id": "ZZrsQMVDMH0N"
   },
   "outputs": [],
   "source": [
    "global hidden_config\n",
    "\n",
    "def init_model():\n",
    "    if hidden_config is not None:\n",
    "        print('은닉 계층 {}개를 갖는 다층 퍼셉트론이 작동되었습니다.'. \\\n",
    "              format(len(hidden_config)))\n",
    "        init_model_hiddens()\n",
    "    \n",
    "def forward_neuralnet(x):\n",
    "    if hidden_config is not None:\n",
    "        return forward_neuralnet_hiddens(x)\n",
    "     \n",
    "def backprop_neuralnet(G_output, hiddens):\n",
    "    if hidden_config is not None:\n",
    "        backprop_neuralnet_hiddens(G_output, hiddens)"
   ]
  },
  {
   "cell_type": "code",
   "execution_count": 1,
   "metadata": {
    "colab": {},
    "colab_type": "code",
    "id": "S8wP5knhMJHL"
   },
   "outputs": [],
   "source": [
    "def set_hidden(info):\n",
    "    global hidden_cnt, hidden_config\n",
    "    if isinstance(info, int):\n",
    "        hidden_cnt = info\n",
    "        hidden_config = None\n",
    "    else:\n",
    "        hidden_config = info"
   ]
  }
 ],
 "metadata": {
  "colab": {
   "collapsed_sections": [],
   "name": "mlp.ipynb",
   "provenance": []
  },
  "kernelspec": {
   "display_name": "Python 3",
   "language": "python",
   "name": "python3"
  },
  "language_info": {
   "codemirror_mode": {
    "name": "ipython",
    "version": 3
   },
   "file_extension": ".py",
   "mimetype": "text/x-python",
   "name": "python",
   "nbconvert_exporter": "python",
   "pygments_lexer": "ipython3",
   "version": "3.6.7"
  }
 },
 "nbformat": 4,
 "nbformat_minor": 2
}
